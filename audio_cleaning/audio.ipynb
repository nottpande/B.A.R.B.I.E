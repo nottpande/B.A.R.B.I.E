{
 "cells": [
  {
   "cell_type": "code",
   "execution_count": 1,
   "metadata": {},
   "outputs": [
    {
     "name": "stdout",
     "output_type": "stream",
     "text": [
      "Requirement already satisfied: librosa in c:\\users\\yojith\\appdata\\local\\programs\\python\\python311\\lib\\site-packages (0.10.2.post1)\n",
      "Collecting noisereduce\n",
      "  Downloading noisereduce-3.0.2-py3-none-any.whl.metadata (14 kB)\n",
      "Requirement already satisfied: numpy in c:\\users\\yojith\\appdata\\local\\programs\\python\\python311\\lib\\site-packages (2.0.2)\n",
      "Requirement already satisfied: pandas in c:\\users\\yojith\\appdata\\local\\programs\\python\\python311\\lib\\site-packages (2.2.2)\n",
      "Collecting tqdm\n",
      "  Downloading tqdm-4.66.5-py3-none-any.whl.metadata (57 kB)\n",
      "Requirement already satisfied: audioread>=2.1.9 in c:\\users\\yojith\\appdata\\local\\programs\\python\\python311\\lib\\site-packages (from librosa) (3.0.1)\n",
      "Requirement already satisfied: scipy>=1.2.0 in c:\\users\\yojith\\appdata\\local\\programs\\python\\python311\\lib\\site-packages (from librosa) (1.14.1)\n",
      "Requirement already satisfied: scikit-learn>=0.20.0 in c:\\users\\yojith\\appdata\\local\\programs\\python\\python311\\lib\\site-packages (from librosa) (1.5.2)\n",
      "Requirement already satisfied: joblib>=0.14 in c:\\users\\yojith\\appdata\\local\\programs\\python\\python311\\lib\\site-packages (from librosa) (1.4.2)\n",
      "Requirement already satisfied: decorator>=4.3.0 in c:\\users\\yojith\\appdata\\roaming\\python\\python311\\site-packages (from librosa) (5.1.1)\n",
      "Requirement already satisfied: numba>=0.51.0 in c:\\users\\yojith\\appdata\\local\\programs\\python\\python311\\lib\\site-packages (from librosa) (0.60.0)\n",
      "Requirement already satisfied: soundfile>=0.12.1 in c:\\users\\yojith\\appdata\\local\\programs\\python\\python311\\lib\\site-packages (from librosa) (0.12.1)\n",
      "Requirement already satisfied: pooch>=1.1 in c:\\users\\yojith\\appdata\\local\\programs\\python\\python311\\lib\\site-packages (from librosa) (1.8.2)\n",
      "Requirement already satisfied: soxr>=0.3.2 in c:\\users\\yojith\\appdata\\local\\programs\\python\\python311\\lib\\site-packages (from librosa) (0.5.0.post1)\n",
      "Requirement already satisfied: typing-extensions>=4.1.1 in c:\\users\\yojith\\appdata\\local\\programs\\python\\python311\\lib\\site-packages (from librosa) (4.10.0)\n",
      "Requirement already satisfied: lazy-loader>=0.1 in c:\\users\\yojith\\appdata\\local\\programs\\python\\python311\\lib\\site-packages (from librosa) (0.4)\n",
      "Requirement already satisfied: msgpack>=1.0 in c:\\users\\yojith\\appdata\\local\\programs\\python\\python311\\lib\\site-packages (from librosa) (1.1.0)\n",
      "Requirement already satisfied: matplotlib in c:\\users\\yojith\\appdata\\local\\programs\\python\\python311\\lib\\site-packages (from noisereduce) (3.9.2)\n",
      "Requirement already satisfied: python-dateutil>=2.8.2 in c:\\users\\yojith\\appdata\\roaming\\python\\python311\\site-packages (from pandas) (2.9.0.post0)\n",
      "Requirement already satisfied: pytz>=2020.1 in c:\\users\\yojith\\appdata\\local\\programs\\python\\python311\\lib\\site-packages (from pandas) (2024.1)\n",
      "Requirement already satisfied: tzdata>=2022.7 in c:\\users\\yojith\\appdata\\local\\programs\\python\\python311\\lib\\site-packages (from pandas) (2024.1)\n",
      "Requirement already satisfied: colorama in c:\\users\\yojith\\appdata\\local\\programs\\python\\python311\\lib\\site-packages (from tqdm) (0.4.6)\n",
      "Requirement already satisfied: packaging in c:\\users\\yojith\\appdata\\roaming\\python\\python311\\site-packages (from lazy-loader>=0.1->librosa) (24.1)\n",
      "Requirement already satisfied: llvmlite<0.44,>=0.43.0dev0 in c:\\users\\yojith\\appdata\\local\\programs\\python\\python311\\lib\\site-packages (from numba>=0.51.0->librosa) (0.43.0)\n",
      "Requirement already satisfied: platformdirs>=2.5.0 in c:\\users\\yojith\\appdata\\roaming\\python\\python311\\site-packages (from pooch>=1.1->librosa) (4.2.2)\n",
      "Requirement already satisfied: requests>=2.19.0 in c:\\users\\yojith\\appdata\\local\\programs\\python\\python311\\lib\\site-packages (from pooch>=1.1->librosa) (2.32.3)\n",
      "Requirement already satisfied: six>=1.5 in c:\\users\\yojith\\appdata\\local\\programs\\python\\python311\\lib\\site-packages (from python-dateutil>=2.8.2->pandas) (1.16.0)\n",
      "Requirement already satisfied: threadpoolctl>=3.1.0 in c:\\users\\yojith\\appdata\\local\\programs\\python\\python311\\lib\\site-packages (from scikit-learn>=0.20.0->librosa) (3.5.0)\n",
      "Requirement already satisfied: cffi>=1.0 in c:\\users\\yojith\\appdata\\local\\programs\\python\\python311\\lib\\site-packages (from soundfile>=0.12.1->librosa) (1.16.0)\n",
      "Requirement already satisfied: contourpy>=1.0.1 in c:\\users\\yojith\\appdata\\local\\programs\\python\\python311\\lib\\site-packages (from matplotlib->noisereduce) (1.3.0)\n",
      "Requirement already satisfied: cycler>=0.10 in c:\\users\\yojith\\appdata\\local\\programs\\python\\python311\\lib\\site-packages (from matplotlib->noisereduce) (0.12.1)\n",
      "Requirement already satisfied: fonttools>=4.22.0 in c:\\users\\yojith\\appdata\\local\\programs\\python\\python311\\lib\\site-packages (from matplotlib->noisereduce) (4.54.0)\n",
      "Requirement already satisfied: kiwisolver>=1.3.1 in c:\\users\\yojith\\appdata\\local\\programs\\python\\python311\\lib\\site-packages (from matplotlib->noisereduce) (1.4.7)\n",
      "Requirement already satisfied: pillow>=8 in c:\\users\\yojith\\appdata\\local\\programs\\python\\python311\\lib\\site-packages (from matplotlib->noisereduce) (10.4.0)\n",
      "Requirement already satisfied: pyparsing>=2.3.1 in c:\\users\\yojith\\appdata\\local\\programs\\python\\python311\\lib\\site-packages (from matplotlib->noisereduce) (3.1.4)\n",
      "Requirement already satisfied: pycparser in c:\\users\\yojith\\appdata\\local\\programs\\python\\python311\\lib\\site-packages (from cffi>=1.0->soundfile>=0.12.1->librosa) (2.21)\n",
      "Requirement already satisfied: charset-normalizer<4,>=2 in c:\\users\\yojith\\appdata\\local\\programs\\python\\python311\\lib\\site-packages (from requests>=2.19.0->pooch>=1.1->librosa) (3.3.2)\n",
      "Requirement already satisfied: idna<4,>=2.5 in c:\\users\\yojith\\appdata\\local\\programs\\python\\python311\\lib\\site-packages (from requests>=2.19.0->pooch>=1.1->librosa) (3.6)\n",
      "Requirement already satisfied: urllib3<3,>=1.21.1 in c:\\users\\yojith\\appdata\\local\\programs\\python\\python311\\lib\\site-packages (from requests>=2.19.0->pooch>=1.1->librosa) (2.2.1)\n",
      "Requirement already satisfied: certifi>=2017.4.17 in c:\\users\\yojith\\appdata\\local\\programs\\python\\python311\\lib\\site-packages (from requests>=2.19.0->pooch>=1.1->librosa) (2024.2.2)\n",
      "Downloading noisereduce-3.0.2-py3-none-any.whl (22 kB)\n",
      "Downloading tqdm-4.66.5-py3-none-any.whl (78 kB)\n",
      "Installing collected packages: tqdm, noisereduce\n",
      "Successfully installed noisereduce-3.0.2 tqdm-4.66.5\n",
      "Note: you may need to restart the kernel to use updated packages.\n"
     ]
    }
   ],
   "source": [
    "pip install librosa noisereduce numpy pandas tqdm"
   ]
  },
  {
   "cell_type": "code",
   "execution_count": 19,
   "metadata": {},
   "outputs": [],
   "source": [
    "# Import required libraries\n",
    "import os\n",
    "import librosa\n",
    "import noisereduce as nr\n",
    "import numpy as np\n",
    "import pandas as pd\n",
    "from tqdm import tqdm  # For progress tracking\n",
    "import soundfile as sf"
   ]
  },
  {
   "cell_type": "code",
   "execution_count": 18,
   "metadata": {},
   "outputs": [
    {
     "name": "stdout",
     "output_type": "stream",
     "text": [
      "Requirement already satisfied: soundfile in c:\\users\\yojith\\appdata\\local\\programs\\python\\python311\\lib\\site-packages (0.12.1)\n",
      "Requirement already satisfied: cffi>=1.0 in c:\\users\\yojith\\appdata\\local\\programs\\python\\python311\\lib\\site-packages (from soundfile) (1.16.0)\n",
      "Requirement already satisfied: pycparser in c:\\users\\yojith\\appdata\\local\\programs\\python\\python311\\lib\\site-packages (from cffi>=1.0->soundfile) (2.21)\n",
      "Note: you may need to restart the kernel to use updated packages.\n"
     ]
    }
   ],
   "source": [
    "pip install soundfile"
   ]
  },
  {
   "cell_type": "code",
   "execution_count": 5,
   "metadata": {},
   "outputs": [],
   "source": [
    "# Define paths\n",
    "input_folder = \"C:/Users/Yojith/Documents/NLP/audiofile\"   # Folder containing original audio files\n",
    "output_folder = \"C:/Users/Yojith/Documents/NLP/output_audio\" # Folder to save processed audio files"
   ]
  },
  {
   "cell_type": "code",
   "execution_count": 6,
   "metadata": {},
   "outputs": [],
   "source": [
    "# Parameters\n",
    "target_sr = 16000      # Target sample rate for resampling\n",
    "max_duration = 10      # Maximum duration of audio files (in seconds)\n",
    "max_samples = int(max_duration * target_sr)  # Max samples after padding"
   ]
  },
  {
   "cell_type": "code",
   "execution_count": 7,
   "metadata": {},
   "outputs": [],
   "source": [
    "# Ensure the output folder exists\n",
    "os.makedirs(output_folder, exist_ok=True)"
   ]
  },
  {
   "cell_type": "code",
   "execution_count": 8,
   "metadata": {},
   "outputs": [],
   "source": [
    "# Create a dataframe to store preprocessing details\n",
    "df_preprocessing = pd.DataFrame(columns=['filename', 'original_sr', 'new_sr', 'max_amplitude'])"
   ]
  },
  {
   "cell_type": "code",
   "execution_count": 15,
   "metadata": {},
   "outputs": [],
   "source": [
    "# Function to preprocess a single audio file\n",
    "def preprocess_audio(file_path, target_sr=16000, max_duration=10):\n",
    "    # Load the audio file with original sample rate\n",
    "    audio, sr = librosa.load(file_path, sr=None)\n",
    "    \n",
    "    # Step 1: Resample if necessary\n",
    "    if sr != target_sr:\n",
    "        audio = librosa.resample(audio, orig_sr=sr, target_sr=target_sr)\n",
    "        sr = target_sr  # Update sampling rate after resampling\n",
    "\n",
    "    # Step 2: Noise Reduction (Using a portion of the audio as noise reference)\n",
    "    noise_clip = audio[:int(0.25 * len(audio))]  # Take first 25% as noise reference\n",
    "    audio = nr.reduce_noise(y=audio, y_noise=noise_clip, sr=sr)\n",
    "    \n",
    "    # Step 3: Normalization (Scale between -1 and 1)\n",
    "    max_val = max(abs(audio))\n",
    "    if max_val != 0:\n",
    "        audio = audio / max_val\n",
    "\n",
    "    # Step 4: Padding/Trimming to a fixed length\n",
    "    max_samples = int(max_duration * sr)  # Calculate max samples based on duration\n",
    "    audio = librosa.util.fix_length(audio, size=max_samples)\n",
    "\n",
    "    return audio, sr, target_sr, max_val\n"
   ]
  },
  {
   "cell_type": "code",
   "execution_count": 21,
   "metadata": {},
   "outputs": [
    {
     "name": "stderr",
     "output_type": "stream",
     "text": [
      "Processing Audio Files:   0%|          | 0/4288 [00:00<?, ?it/s]"
     ]
    },
    {
     "name": "stderr",
     "output_type": "stream",
     "text": [
      "C:\\Users\\Yojith\\AppData\\Local\\Temp\\ipykernel_24452\\1642763705.py:20: FutureWarning: The behavior of DataFrame concatenation with empty or all-NA entries is deprecated. In a future version, this will no longer exclude empty or all-NA columns when determining the result dtypes. To retain the old behavior, exclude the relevant entries before the concat operation.\n",
      "  df_preprocessing = pd.concat([df_preprocessing, pd.DataFrame([{\n",
      "Processing Audio Files: 100%|██████████| 4288/4288 [09:11<00:00,  7.77it/s]\n"
     ]
    }
   ],
   "source": [
    "import soundfile as sf  # Import soundfile for writing audio files\n",
    "import pandas as pd     # Ensure pandas is imported\n",
    "\n",
    "# Create an empty DataFrame to store details of the processed files\n",
    "df_preprocessing = pd.DataFrame(columns=['filename', 'original_sr', 'new_sr', 'max_amplitude'])\n",
    "\n",
    "# Main Loop\n",
    "for file in tqdm(os.listdir(input_folder), desc=\"Processing Audio Files\"):\n",
    "    if file.endswith('.wav'):  # Check for .wav files\n",
    "        file_path = os.path.join(input_folder, file)\n",
    "\n",
    "        # Preprocess the file\n",
    "        audio_processed, original_sr, new_sr, max_amplitude = preprocess_audio(file_path, target_sr=target_sr, max_duration=max_duration)\n",
    "\n",
    "        # Save the processed file to output folder\n",
    "        output_path = os.path.join(output_folder, file)\n",
    "        sf.write(output_path, audio_processed, samplerate=new_sr)  # Use soundfile.write() to save audio\n",
    "\n",
    "        # Record the details of the processed file using pd.concat\n",
    "        df_preprocessing = pd.concat([df_preprocessing, pd.DataFrame([{\n",
    "            'filename': file, \n",
    "            'original_sr': original_sr, \n",
    "            'new_sr': new_sr, \n",
    "            'max_amplitude': max_amplitude\n",
    "        }])], ignore_index=True)\n"
   ]
  },
  {
   "cell_type": "code",
   "execution_count": null,
   "metadata": {},
   "outputs": [],
   "source": []
  }
 ],
 "metadata": {
  "kernelspec": {
   "display_name": "Python 3",
   "language": "python",
   "name": "python3"
  },
  "language_info": {
   "codemirror_mode": {
    "name": "ipython",
    "version": 3
   },
   "file_extension": ".py",
   "mimetype": "text/x-python",
   "name": "python",
   "nbconvert_exporter": "python",
   "pygments_lexer": "ipython3",
   "version": "3.11.8"
  }
 },
 "nbformat": 4,
 "nbformat_minor": 2
}
