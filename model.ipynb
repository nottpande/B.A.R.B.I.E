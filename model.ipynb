{
 "cells": [
  {
   "cell_type": "code",
   "execution_count": null,
   "metadata": {},
   "outputs": [],
   "source": [
    "import pandas as pd\n",
    "import numpy as np\n",
    "import os\n",
    "from tqdm import tqdm\n",
    "from src.Transformers import Transformer"
   ]
  },
  {
   "cell_type": "code",
   "execution_count": null,
   "metadata": {},
   "outputs": [],
   "source": [
    "import torch\n",
    "import torch.nn as nn\n",
    "from tensorflow.keras.preprocessing.text import Tokenizer\n",
    "from tensorflow.keras.preprocessing.sequence import pad_sequences"
   ]
  },
  {
   "cell_type": "code",
   "execution_count": null,
   "metadata": {},
   "outputs": [],
   "source": [
    "df = pd.read_csv('machine_translation_dataset.csv')\n",
    "print(f'Size of the dataframe is {df.shape}')\n",
    "df.head()"
   ]
  },
  {
   "cell_type": "code",
   "execution_count": null,
   "metadata": {},
   "outputs": [],
   "source": [
    "dataset = df.sample(20000).reset_index(drop=True)\n",
    "dataset"
   ]
  },
  {
   "cell_type": "code",
   "execution_count": null,
   "metadata": {},
   "outputs": [],
   "source": [
    "def preprocess_texts(source_texts, target_texts, max_src_len=None, max_tgt_len=None):\n",
    "    # Tokenize the source language (Kannada)\n",
    "    src_tokenizer = Tokenizer()\n",
    "    src_tokenizer.fit_on_texts(source_texts)\n",
    "    src_sequences = src_tokenizer.texts_to_sequences(source_texts)\n",
    "    src_vocab_size = len(src_tokenizer.word_index) + 1\n",
    "\n",
    "    # Tokenize the target language (English)\n",
    "    tgt_tokenizer = Tokenizer()\n",
    "    tgt_tokenizer.fit_on_texts(target_texts)\n",
    "    tgt_sequences = tgt_tokenizer.texts_to_sequences(target_texts)\n",
    "    tgt_vocab_size = len(tgt_tokenizer.word_index) + 1\n",
    "\n",
    "    # Determine max sequence lengths if not provided\n",
    "    if max_src_len is None:\n",
    "        max_src_len = max(len(seq) for seq in src_sequences)\n",
    "    if max_tgt_len is None:\n",
    "        max_tgt_len = max(len(seq) for seq in tgt_sequences)\n",
    "\n",
    "    # Padding sequences to ensure consistent length\n",
    "    src_sequences = pad_sequences(src_sequences, maxlen=max_src_len, padding='post')\n",
    "    tgt_sequences = pad_sequences(tgt_sequences, maxlen=max_tgt_len, padding='post')\n",
    "\n",
    "    # Convert sequences to torch tensors\n",
    "    src_sequences = torch.tensor(src_sequences, dtype=torch.long)\n",
    "    tgt_sequences = torch.tensor(tgt_sequences, dtype=torch.long)\n",
    "\n",
    "    return src_sequences, tgt_sequences, src_vocab_size, tgt_vocab_size, max_src_len, max_tgt_len\n"
   ]
  },
  {
   "cell_type": "code",
   "execution_count": null,
   "metadata": {},
   "outputs": [],
   "source": [
    "def initialize_model(src_vocab_size, tgt_vocab_size, max_seq_len, embedding_dim=512, num_layers=6, expansion_factor=4, n_heads=8):\n",
    "    model = Transformer(\n",
    "        vocab_size=max(src_vocab_size, tgt_vocab_size),\n",
    "        embedding_dim=embedding_dim,\n",
    "        max_seq_len=max_seq_len,\n",
    "        num_layers=num_layers,\n",
    "        expansion_factor=expansion_factor,\n",
    "        n_heads=n_heads\n",
    "    )\n",
    "    return model"
   ]
  },
  {
   "cell_type": "code",
   "execution_count": null,
   "metadata": {},
   "outputs": [],
   "source": [
    "def train_model(model, src_sequences, tgt_sequences, num_epochs=10, learning_rate=0.001, checkpoint_dir='checkpoints', batch_size=32):\n",
    "    if not os.path.exists(checkpoint_dir):\n",
    "        os.makedirs(checkpoint_dir)\n",
    "\n",
    "    criterion = nn.CrossEntropyLoss(ignore_index=0)\n",
    "    optimizer = torch.optim.Adam(model.parameters(), lr=learning_rate)\n",
    "\n",
    "    model.train()\n",
    "    for epoch in range(num_epochs):\n",
    "        epoch_loss = 0\n",
    "        correct_predictions = 0\n",
    "        total_tokens = 0\n",
    "        \n",
    "        optimizer.zero_grad()\n",
    "        \n",
    "        # Wrap the data loader with tqdm for progress tracking\n",
    "        with tqdm(total=src_sequences.size(0), desc=f'Epoch {epoch + 1}/{num_epochs}', unit='batch') as pbar:\n",
    "            for i in range(0, src_sequences.size(0), batch_size):\n",
    "                src_batch = src_sequences[i:i+batch_size]\n",
    "                tgt_batch = tgt_sequences[i:i+batch_size]\n",
    "                \n",
    "                # Forward pass\n",
    "                outputs = model(src_batch, tgt_batch, tgt_mask=None)\n",
    "                \n",
    "                # Compute loss\n",
    "                loss = criterion(outputs.view(-1, outputs.size(-1)), tgt_batch.view(-1))\n",
    "                \n",
    "                # Backward pass and optimization\n",
    "                loss.backward()\n",
    "                optimizer.step()\n",
    "                \n",
    "                # Compute accuracy\n",
    "                predicted = outputs.argmax(dim=-1)\n",
    "                mask = tgt_batch != 0  # Assume 0 is the padding index\n",
    "                correct_predictions += (predicted == tgt_batch).masked_select(mask).sum().item()\n",
    "                total_tokens += mask.sum().item()\n",
    "                \n",
    "                epoch_loss += loss.item()\n",
    "                \n",
    "                # Update progress bar\n",
    "                pbar.update(src_batch.size(0))\n",
    "                accuracy = correct_predictions / total_tokens if total_tokens > 0 else 0\n",
    "                pbar.set_postfix(loss=epoch_loss / (i + src_batch.size(0)), accuracy=accuracy)\n",
    "        \n",
    "        checkpoint_path = os.path.join(checkpoint_dir, f'model_epoch_{epoch+1}.pt')\n",
    "        torch.save({\n",
    "            'epoch': epoch + 1,\n",
    "            'model_state_dict': model.state_dict(),\n",
    "            'optimizer_state_dict': optimizer.state_dict(),\n",
    "            'loss': epoch_loss,\n",
    "        }, checkpoint_path)\n",
    "        print(f'Model checkpoint saved at {checkpoint_path}')\n"
   ]
  },
  {
   "cell_type": "code",
   "execution_count": null,
   "metadata": {},
   "outputs": [],
   "source": [
    "def predict(model, src_sequence, max_tgt_len):\n",
    "    model.eval()\n",
    "    with torch.no_grad():\n",
    "        src_sequence = src_sequence.unsqueeze(0)  # Add batch dimension\n",
    "        tgt_sequence = torch.zeros((1, max_tgt_len), dtype=torch.long)  # Initial empty target sequence\n",
    "\n",
    "        for i in range(max_tgt_len):\n",
    "            output = model(src_sequence, tgt_sequence, tgt_mask=None)\n",
    "            prediction = output[:, i, :].argmax(dim=-1)\n",
    "            tgt_sequence[:, i] = prediction\n",
    "\n",
    "        return tgt_sequence.squeeze(0)"
   ]
  },
  {
   "cell_type": "code",
   "execution_count": null,
   "metadata": {},
   "outputs": [],
   "source": [
    "src_sequences, tgt_sequences, src_vocab_size, tgt_vocab_size, max_src_len, max_tgt_len = preprocess_texts(dataset['Kannada Sentences'], dataset['English Sentences'])"
   ]
  },
  {
   "cell_type": "code",
   "execution_count": null,
   "metadata": {},
   "outputs": [],
   "source": [
    "model = initialize_model(src_vocab_size, tgt_vocab_size, max_seq_len=max(max_src_len, max_tgt_len))"
   ]
  },
  {
   "cell_type": "code",
   "execution_count": null,
   "metadata": {},
   "outputs": [],
   "source": [
    "train_model(model, src_sequences, tgt_sequences, num_epochs=10, learning_rate=0.001)"
   ]
  }
 ],
 "metadata": {
  "kernelspec": {
   "display_name": "Python 3",
   "language": "python",
   "name": "python3"
  },
  "language_info": {
   "codemirror_mode": {
    "name": "ipython",
    "version": 3
   },
   "file_extension": ".py",
   "mimetype": "text/x-python",
   "name": "python",
   "nbconvert_exporter": "python",
   "pygments_lexer": "ipython3",
   "version": "3.12.6"
  }
 },
 "nbformat": 4,
 "nbformat_minor": 2
}
