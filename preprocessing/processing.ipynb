{
 "cells": [
  {
   "cell_type": "code",
   "execution_count": null,
   "metadata": {},
   "outputs": [
    {
     "ename": "",
     "evalue": "",
     "output_type": "error",
     "traceback": [
      "\u001b[1;31mRunning cells with 'Python 3.11.2' requires the ipykernel package.\n",
      "\u001b[1;31mRun the following command to install 'ipykernel' into the Python environment. \n",
      "\u001b[1;31mCommand: '/usr/bin/python3 -m pip install ipykernel -U --user --force-reinstall'"
     ]
    }
   ],
   "source": [
    "# pip install nltk.tokenize"
   ]
  },
  {
   "cell_type": "code",
   "execution_count": 1,
   "metadata": {},
   "outputs": [],
   "source": [
    "# Load custom Kannada stopwords from a file or define them manually\n",
    "kannada_stopwords = set([\"ಅದು\", \"ಈ\", \"ಅವರ\", \"ನಾನು\", \"ನಮ್ಮ\", \"ನೀವು\", \"ಮತ್ತು\", \"ಹಾಗು\"])"
   ]
  },
  {
   "cell_type": "code",
   "execution_count": 2,
   "metadata": {},
   "outputs": [],
   "source": [
    "# Tokenizing the sentencing in order to purge the stopwords\n",
    "\n",
    "def tokenize_kannada(text):\n",
    "    # Replace punctuation with space to separate tokens\n",
    "    punctuations = \"।!?.,;:'\\\"()-\"\n",
    "    for char in punctuations:\n",
    "        text = text.replace(char, \" \")\n",
    "    tokens = text.split()\n",
    "    return tokens"
   ]
  },
  {
   "cell_type": "code",
   "execution_count": 4,
   "metadata": {},
   "outputs": [],
   "source": [
    "def remove_stopwords_kannada(text, stopword_list):\n",
    "    tokens = tokenize_kannada(text)\n",
    "    filtered_tokens = [word for word in tokens if word not in stopword_list]\n",
    "    return ' '.join(filtered_tokens)\n"
   ]
  },
  {
   "cell_type": "code",
   "execution_count": 5,
   "metadata": {},
   "outputs": [
    {
     "name": "stdout",
     "output_type": "stream",
     "text": [
      "Processed Text: ಶಾಲೆಗೆ ಹೋಗಿದ್ದೇನೆ ಓದುತ್ತಿದ್ದೇನೆ\n"
     ]
    }
   ],
   "source": [
    "# Example Kannada text\n",
    "text = \"ನಾನು ಶಾಲೆಗೆ ಹೋಗಿದ್ದೇನೆ ಮತ್ತು ನಾನು ಓದುತ್ತಿದ್ದೇನೆ\"\n",
    "processed_text = remove_stopwords_kannada(text, kannada_stopwords)\n",
    "print(f\"Processed Text: {processed_text}\")\n"
   ]
  },
  {
   "cell_type": "code",
   "execution_count": null,
   "metadata": {},
   "outputs": [],
   "source": [
    "#similar manual approach can be used for Parts Of Speech too"
   ]
  },
  {
   "cell_type": "code",
   "execution_count": 6,
   "metadata": {},
   "outputs": [],
   "source": [
    "pos_tags = {\n",
    "    \"ನಾನು\": \"PRON\",     # Pronoun\n",
    "    \"ಓದುತ್ತಿದ್ದೇನೆ\": \"VERB\",  # Verb\n",
    "    \"ಶಾಲೆ\": \"NOUN\",     # Noun\n",
    "    \"ಮತ್ತು\": \"CONJ\",     # Conjunction\n",
    "    \"ಅವರು\": \"PRON\"      # Pronoun\n",
    "}"
   ]
  },
  {
   "cell_type": "code",
   "execution_count": 7,
   "metadata": {},
   "outputs": [],
   "source": [
    "def pos_tag_kannada(text, tag_dict):\n",
    "    tokens = tokenize_kannada(text)  # Use the manual tokenizer\n",
    "    tagged_tokens = []\n",
    "    for token in tokens:\n",
    "        # If the word is in the predefined POS dictionary, tag it\n",
    "        pos_tag = tag_dict.get(token, \"UNK\")  # \"UNK\" stands for unknown POS tag\n",
    "        tagged_tokens.append((token, pos_tag))\n",
    "    return tagged_tokens\n"
   ]
  },
  {
   "cell_type": "code",
   "execution_count": 8,
   "metadata": {},
   "outputs": [
    {
     "name": "stdout",
     "output_type": "stream",
     "text": [
      "POS Tags: [('ನಾನು', 'PRON'), ('ಶಾಲೆಗೆ', 'UNK'), ('ಹೋಗಿದ್ದೇನೆ', 'UNK')]\n"
     ]
    }
   ],
   "source": [
    "# Example Kannada sentence\n",
    "text = \"ನಾನು ಶಾಲೆಗೆ ಹೋಗಿದ್ದೇನೆ\"\n",
    "pos_tags = pos_tag_kannada(text, pos_tags)\n",
    "print(f\"POS Tags: {pos_tags}\")\n"
   ]
  },
  {
   "cell_type": "code",
   "execution_count": 9,
   "metadata": {},
   "outputs": [],
   "source": [
    "#based on common patterns in the language, some guessing can be done for the parts of speech\n",
    "def guess_pos_kannada(word):\n",
    "    # Use suffix rules to guess POS tags for verbs and nouns\n",
    "    if word.endswith(\"ತ್ತಿದ್ದೇನೆ\") or word.endswith(\"ಬಹುದೇ\"):\n",
    "        return \"VERB\"\n",
    "    elif word.endswith(\"ಗೆ\") or word.endswith(\"ದಲ್ಲಿ\"):\n",
    "        return \"NOUN\"\n",
    "    else:\n",
    "        return \"UNK\"\n",
    "\n",
    "def pos_tag_with_rules(text):\n",
    "    tokens = tokenize_kannada(text)\n",
    "    tagged_tokens = [(word, guess_pos_kannada(word)) for word in tokens]\n",
    "    return tagged_tokens\n"
   ]
  },
  {
   "cell_type": "code",
   "execution_count": 10,
   "metadata": {},
   "outputs": [
    {
     "name": "stdout",
     "output_type": "stream",
     "text": [
      "POS Tags: [('ನಾನು', 'UNK'), ('ಶಾಲೆಗೆ', 'NOUN'), ('ಹೋಗುತ್ತಿದ್ದೇನೆ', 'VERB')]\n"
     ]
    }
   ],
   "source": [
    "text = \"ನಾನು ಶಾಲೆಗೆ ಹೋಗುತ್ತಿದ್ದೇನೆ\"\n",
    "pos_tags = pos_tag_with_rules(text)\n",
    "print(f\"POS Tags: {pos_tags}\")\n"
   ]
  },
  {
   "cell_type": "code",
   "execution_count": null,
   "metadata": {},
   "outputs": [],
   "source": []
  }
 ],
 "metadata": {
  "kernelspec": {
   "display_name": "Python 3",
   "language": "python",
   "name": "python3"
  },
  "language_info": {
   "codemirror_mode": {
    "name": "ipython",
    "version": 3
   },
   "file_extension": ".py",
   "mimetype": "text/x-python",
   "name": "python",
   "nbconvert_exporter": "python",
   "pygments_lexer": "ipython3",
   "version": "3.11.2"
  }
 },
 "nbformat": 4,
 "nbformat_minor": 2
}
